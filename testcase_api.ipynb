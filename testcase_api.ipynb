{
 "cells": [
  {
   "cell_type": "code",
   "execution_count": 1,
   "metadata": {},
   "outputs": [],
   "source": [
    "import requests\n",
    "import threading"
   ]
  },
  {
   "cell_type": "code",
   "execution_count": 6,
   "metadata": {},
   "outputs": [
    {
     "data": {
      "text/plain": [
       "{'data': {'data': [{'delay': 0.5144410133361816,\n",
       "    'price': 4.08,\n",
       "    'source': 'BINACE',\n",
       "    'timestamp': 1661236719.11769,\n",
       "    'token': 'NEAR',\n",
       "    'volume24h': 65463553.4104},\n",
       "   {'delay': 2.7936689853668213,\n",
       "    'price': 4.0797,\n",
       "    'source': 'KUCOIN',\n",
       "    'timestamp': 1661236716.329,\n",
       "    'token': 'NEAR',\n",
       "    'volume24h': 4864582.425841889},\n",
       "   {'delay': 1.0312530994415283,\n",
       "    'price': 4.0789,\n",
       "    'source': 'GATEIO',\n",
       "    'timestamp': 1661236719.128469,\n",
       "    'token': 'NEAR',\n",
       "    'volume24h': 3620477.0721191},\n",
       "   {'delay': 8.12166976928711,\n",
       "    'price': 4.08,\n",
       "    'source': 'CHAINLINK',\n",
       "    'timestamp': 1661236711,\n",
       "    'token': 'NEAR',\n",
       "    'volume24h': 135925057.35159203}],\n",
       "  'price_median': 4.079650000000001,\n",
       "  'price_volume_weighted_average': 4.079974070594466,\n",
       "  'timestamp': 1661236719.117337,\n",
       "  'token': 'NEAR-USD'},\n",
       " 'error': None}"
      ]
     },
     "execution_count": 6,
     "metadata": {},
     "output_type": "execute_result"
    }
   ],
   "source": [
    "# check response time, response result\n",
    "headers = {\"Authorization\": \"ai_market\",}\n",
    "json_data = {\"data\": \"near\"}\n",
    "requests.post('http://127.0.0.1:5000/price',headers=headers,json=json_data).json()"
   ]
  },
  {
   "cell_type": "code",
   "execution_count": 9,
   "metadata": {},
   "outputs": [
    {
     "data": {
      "text/plain": [
       "{'data': None, 'error': {'error_code': 2, 'message': 'token error'}}"
      ]
     },
     "execution_count": 9,
     "metadata": {},
     "output_type": "execute_result"
    }
   ],
   "source": [
    "# check Authorization\n",
    "headers = {\"Authorization\": \"ai_market_fail\",\n",
    "            \"Content-Type\": \"application/json\"}\n",
    "json_data = {\"data\": \"bnb\"}\n",
    "requests.post('http://127.0.0.1:5000/price',headers=headers,json=json_data).json()"
   ]
  },
  {
   "cell_type": "code",
   "execution_count": 11,
   "metadata": {},
   "outputs": [
    {
     "data": {
      "text/plain": [
       "{'data': None, 'error': {'error_code': 3, 'message': 'server error'}}"
      ]
     },
     "execution_count": 11,
     "metadata": {},
     "output_type": "execute_result"
    }
   ],
   "source": [
    "# check data input fail\n",
    "headers = {\"Authorization\": \"ai_market\",\n",
    "            \"Content-Type\": \"application/json\"}\n",
    "json_data = {\"data\": \"ancccccca\"}\n",
    "requests.post('http://127.0.0.1:5000/price',headers=headers,json=json_data).json()"
   ]
  },
  {
   "cell_type": "code",
   "execution_count": null,
   "metadata": {},
   "outputs": [],
   "source": []
  }
 ],
 "metadata": {
  "kernelspec": {
   "display_name": "Python 3.10.5 64-bit",
   "language": "python",
   "name": "python3"
  },
  "language_info": {
   "codemirror_mode": {
    "name": "ipython",
    "version": 3
   },
   "file_extension": ".py",
   "mimetype": "text/x-python",
   "name": "python",
   "nbconvert_exporter": "python",
   "pygments_lexer": "ipython3",
   "version": "3.10.5"
  },
  "orig_nbformat": 4,
  "vscode": {
   "interpreter": {
    "hash": "aee8b7b246df8f9039afb4144a1f6fd8d2ca17a180786b69acc140d282b71a49"
   }
  }
 },
 "nbformat": 4,
 "nbformat_minor": 2
}
